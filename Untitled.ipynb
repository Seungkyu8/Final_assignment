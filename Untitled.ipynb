{
  "nbformat": 4,
  "nbformat_minor": 0,
  "metadata": {
    "colab": {
      "name": "Untitled",
      "provenance": [],
      "authorship_tag": "ABX9TyMgVR/wo5ekbMKOeaNZ0Jv4",
      "include_colab_link": true
    },
    "kernelspec": {
      "name": "python3",
      "display_name": "Python 3"
    },
    "accelerator": "GPU"
  },
  "cells": [
    {
      "cell_type": "markdown",
      "metadata": {
        "id": "view-in-github",
        "colab_type": "text"
      },
      "source": [
        "<a href=\"https://colab.research.google.com/github/Seungkyu8/Final_assignment/blob/main/Untitled.ipynb\" target=\"_parent\"><img src=\"https://colab.research.google.com/assets/colab-badge.svg\" alt=\"Open In Colab\"/></a>"
      ]
    },
    {
      "cell_type": "code",
      "metadata": {
        "colab": {
          "base_uri": "https://localhost:8080/"
        },
        "id": "mFqDJbXUosZL",
        "outputId": "32d547a5-a998-440f-c7cb-2e94eafcd6fd"
      },
      "source": [
        "import sys\r\n",
        "assert sys.version_info >= (3, 5)\r\n",
        "\r\n",
        "import glob\r\n",
        "\r\n",
        "import sklearn\r\n",
        "assert sklearn.__version__>=\"0.20\"\r\n",
        "\r\n",
        "from sklearn.model_selection import train_test_split\r\n",
        "from keras.models import Sequential\r\n",
        "from keras.models import load_model\r\n",
        "from keras.layers import Conv2D, MaxPooling2D, Dense, Flatten, Dropout\r\n",
        "from keras.callbacks import EarlyStopping, ModelCheckpoint\r\n",
        "\r\n",
        "try:\r\n",
        "    %tensorflow_version 2.x\r\n",
        "    IS_COLAB = True\r\n",
        "except Exception:\r\n",
        "    IS_COLAB = False\r\n",
        "\r\n",
        "from keras.utils import np_utils\r\n",
        "\r\n",
        "import tensorflow as tf\r\n",
        "from tensorflow import keras\r\n",
        "from functools import partial\r\n",
        "assert tf.__version__>=\"2.0\"\r\n",
        "\r\n",
        "if not tf.config.list_physical_devices('GPU'):\r\n",
        "    print(\"No GPU was detected. CNNs can be very slow without a GPU\")\r\n",
        "    if IS_COLAB:\r\n",
        "        print(\"Go to Runtime > Change runtime and select a GPU hardware accelerator.\")\r\n",
        "\r\n",
        "\r\n",
        "import numpy as np\r\n",
        "import os\r\n",
        "\r\n",
        "from PIL import Image\r\n",
        "np.random.seed(42)\r\n",
        "tf.random.set_seed(42)\r\n",
        "\r\n",
        "%matplotlib inline\r\n",
        "import matplotlib as mpl\r\n",
        "import matplotlib.pyplot as plt\r\n",
        "mpl.rc('axes', labelsize=14)\r\n",
        "mpl.rc('xtick', labelsize=12)\r\n",
        "mpl.rc('ytick', labelsize=12)"
      ],
      "execution_count": null,
      "outputs": [
        {
          "output_type": "stream",
          "text": [
            "No GPU was detected. CNNs can be very slow without a GPU\n",
            "Go to Runtime > Change runtime and select a GPU hardware accelerator.\n"
          ],
          "name": "stdout"
        }
      ]
    },
    {
      "cell_type": "code",
      "metadata": {
        "colab": {
          "base_uri": "https://localhost:8080/"
        },
        "id": "A6ynQi10o18g",
        "outputId": "3d2955b9-6bca-4df9-f44a-f3744cf83b22"
      },
      "source": [
        "from google.colab import drive\r\n",
        "drive.mount('/content/drive')"
      ],
      "execution_count": null,
      "outputs": [
        {
          "output_type": "stream",
          "text": [
            "Mounted at /content/drive\n"
          ],
          "name": "stdout"
        }
      ]
    },
    {
      "cell_type": "code",
      "metadata": {
        "colab": {
          "base_uri": "https://localhost:8080/"
        },
        "id": "VYB2-8YQo9Ef",
        "outputId": "22f0eaf9-693c-4b65-a9b4-b9b28df8e1d8"
      },
      "source": [
        "caltech_dir = '/content/drive/MyDrive/기말고사 과제/train'\r\n",
        "categories = ['scissors','rock','paper']\r\n",
        "nb_classes = len(categories)\r\n",
        "\r\n",
        "\r\n",
        "image_w = 64\r\n",
        "image_h = 64\r\n",
        "\r\n",
        "pixels = image_h * image_w * 3\r\n",
        "\r\n",
        "X = []\r\n",
        "y = []\r\n",
        "\r\n",
        "for idx, cat in enumerate(categories):\r\n",
        "    \r\n",
        "    #one-hot 돌리기.\r\n",
        "    label = [0 for i in range(nb_classes)]\r\n",
        "    label[idx] = 1\r\n",
        "\r\n",
        "    image_dir = caltech_dir + \"/\" + cat\r\n",
        "    files = glob.glob(image_dir+\"/*.jpg\")\r\n",
        "    print(cat, \" 파일 길이 : \", len(files))\r\n",
        "\r\n",
        "    for i, f in enumerate(files):\r\n",
        "        img = Image.open(f)\r\n",
        "        img = img.convert(\"RGB\")\r\n",
        "        img = img.resize((image_w, image_h))\r\n",
        "        data = np.asarray(img)\r\n",
        "\r\n",
        "        X.append(data)\r\n",
        "        y.append(label)\r\n",
        "\r\n",
        "        if i % 700 == 0:\r\n",
        "            print(cat, \" : \", f)\r\n",
        "\r\n",
        "X = np.array(X)\r\n",
        "y = np.array(y)\r\n",
        "#1 0 0 0 이면 airplanes\r\n",
        "#0 1 0 0 이면 buddha 이런식\r\n",
        "\r\n",
        "\r\n",
        "X_train, X_test, y_train, y_test = train_test_split(X, y)\r\n",
        "xy = (X_train, X_test, y_train, y_test)\r\n",
        "\r\n",
        "np.save('/content/drive/MyDrive/기말고사 과제/final.npy', xy)\r\n",
        "\r\n",
        "print(\"ok\", len(y))"
      ],
      "execution_count": null,
      "outputs": [
        {
          "output_type": "stream",
          "text": [
            "scissors  파일 길이 :  461\n",
            "scissors  :  /content/drive/MyDrive/기말고사 과제/train/scissors/img113.jpg\n",
            "rock  파일 길이 :  394\n",
            "rock  :  /content/drive/MyDrive/기말고사 과제/train/rock/img116.jpg\n",
            "paper  파일 길이 :  413\n",
            "paper  :  /content/drive/MyDrive/기말고사 과제/train/paper/img121.jpg\n",
            "ok 1268\n"
          ],
          "name": "stdout"
        }
      ]
    },
    {
      "cell_type": "code",
      "metadata": {
        "colab": {
          "base_uri": "https://localhost:8080/"
        },
        "id": "duIegQqzpLJP",
        "outputId": "c82dc9bd-03dd-45c0-e249-8250e8175aea"
      },
      "source": [
        "config = tf.compat.v1.ConfigProto ()\r\n",
        "config.gpu_options.allow_growth = True\r\n",
        "np_load_old = np.load\r\n",
        "np.load = lambda *a,**k: np_load_old(*a, allow_pickle=True, **k)\r\n",
        "X_train, X_test, y_train, y_test = np.load('/content/drive/MyDrive/기말고사 과제/final.npy')\r\n",
        "print(X_train.shape)\r\n",
        "print(X_train.shape[0])\r\n"
      ],
      "execution_count": null,
      "outputs": [
        {
          "output_type": "stream",
          "text": [
            "(951, 64, 64, 3)\n",
            "951\n"
          ],
          "name": "stdout"
        }
      ]
    },
    {
      "cell_type": "code",
      "metadata": {
        "id": "4vaTiRtyr1hq"
      },
      "source": [
        "categories = [\"scissors\",\"rock\",\"paper\"]\r\n",
        "classes = len(categories)\r\n",
        "\r\n",
        "X_train = X_train.astype(float) / 255\r\n",
        "X_test = X_test.astype(float) / 255"
      ],
      "execution_count": null,
      "outputs": []
    },
    {
      "cell_type": "code",
      "metadata": {
        "id": "X54xvI5kr3eU"
      },
      "source": [
        "model = Sequential()\r\n",
        "model.add(Conv2D(32, (3,3), padding=\"same\", input_shape=X_train.shape[1:], activation='relu'))\r\n",
        "model.add(MaxPooling2D(pool_size=(2,2)))\r\n",
        "model.add(Dropout(0.25))\r\n",
        "\r\n",
        "model.add(Conv2D(64, (3,3), padding=\"same\", activation='relu'))\r\n",
        "model.add(MaxPooling2D(pool_size=(2,2)))\r\n",
        "model.add(Dropout(0.25))\r\n",
        "\r\n",
        "model.add(Flatten())\r\n",
        "model.add(Dense(256, activation='softmax'))\r\n",
        "model.add(Dropout(0.5))\r\n",
        "model.add(Dense(classes, activation='softmax'))\r\n",
        "model.compile(loss='categorical_crossentropy', optimizer='adam', metrics=['accuracy'])\r\n",
        "model_dir = '/content/drive/Mydrive/기말고사'\r\n",
        "\r\n",
        "#if not os.path.exists(model_dir):\r\n",
        " #   os.mkdir(model_dir)\r\n",
        "\r\n",
        "model_path = model_dir + '/final_classification.model'\r\n",
        "checkpoint = ModelCheckpoint(filepath=model_path, monitor='val_loss', verbose=1, save_best_only=True)\r\n",
        "early_stopping = EarlyStopping(monitor='val_loss', patience=6)"
      ],
      "execution_count": null,
      "outputs": []
    },
    {
      "cell_type": "code",
      "metadata": {
        "colab": {
          "base_uri": "https://localhost:8080/"
        },
        "id": "XDB5PPdhr6Eo",
        "outputId": "1c97531b-9a99-4c5e-c8f6-d9817d3fc0ac"
      },
      "source": [
        "model.summary()"
      ],
      "execution_count": null,
      "outputs": [
        {
          "output_type": "stream",
          "text": [
            "Model: \"sequential\"\n",
            "_________________________________________________________________\n",
            "Layer (type)                 Output Shape              Param #   \n",
            "=================================================================\n",
            "conv2d (Conv2D)              (None, 64, 64, 32)        896       \n",
            "_________________________________________________________________\n",
            "max_pooling2d (MaxPooling2D) (None, 32, 32, 32)        0         \n",
            "_________________________________________________________________\n",
            "dropout (Dropout)            (None, 32, 32, 32)        0         \n",
            "_________________________________________________________________\n",
            "conv2d_1 (Conv2D)            (None, 32, 32, 64)        18496     \n",
            "_________________________________________________________________\n",
            "max_pooling2d_1 (MaxPooling2 (None, 16, 16, 64)        0         \n",
            "_________________________________________________________________\n",
            "dropout_1 (Dropout)          (None, 16, 16, 64)        0         \n",
            "_________________________________________________________________\n",
            "flatten (Flatten)            (None, 16384)             0         \n",
            "_________________________________________________________________\n",
            "dense (Dense)                (None, 256)               4194560   \n",
            "_________________________________________________________________\n",
            "dropout_2 (Dropout)          (None, 256)               0         \n",
            "_________________________________________________________________\n",
            "dense_1 (Dense)              (None, 3)                 771       \n",
            "=================================================================\n",
            "Total params: 4,214,723\n",
            "Trainable params: 4,214,723\n",
            "Non-trainable params: 0\n",
            "_________________________________________________________________\n"
          ],
          "name": "stdout"
        }
      ]
    },
    {
      "cell_type": "code",
      "metadata": {
        "colab": {
          "base_uri": "https://localhost:8080/"
        },
        "id": "JSs5XC4fr7yE",
        "outputId": "db9347a6-a345-4a3a-fae0-439326536580"
      },
      "source": [
        "history = model.fit(X_train, y_train, batch_size=32, epochs=50, validation_data=(X_test, y_test))"
      ],
      "execution_count": null,
      "outputs": [
        {
          "output_type": "stream",
          "text": [
            "Epoch 1/50\n",
            "30/30 [==============================] - 7s 220ms/step - loss: 1.0914 - accuracy: 0.3796 - val_loss: 1.0776 - val_accuracy: 0.4164\n",
            "Epoch 2/50\n",
            "30/30 [==============================] - 6s 214ms/step - loss: 1.0750 - accuracy: 0.4111 - val_loss: 1.0686 - val_accuracy: 0.4637\n",
            "Epoch 3/50\n",
            "30/30 [==============================] - 6s 214ms/step - loss: 1.0619 - accuracy: 0.4606 - val_loss: 1.0488 - val_accuracy: 0.5994\n",
            "Epoch 4/50\n",
            "30/30 [==============================] - 6s 217ms/step - loss: 1.0662 - accuracy: 0.4448 - val_loss: 1.0603 - val_accuracy: 0.5016\n",
            "Epoch 5/50\n",
            "30/30 [==============================] - 6s 215ms/step - loss: 1.0629 - accuracy: 0.4206 - val_loss: 1.0465 - val_accuracy: 0.4826\n",
            "Epoch 6/50\n",
            "30/30 [==============================] - 6s 215ms/step - loss: 1.0554 - accuracy: 0.4154 - val_loss: 1.0398 - val_accuracy: 0.4858\n",
            "Epoch 7/50\n",
            "30/30 [==============================] - 6s 214ms/step - loss: 1.0542 - accuracy: 0.4143 - val_loss: 1.0372 - val_accuracy: 0.4858\n",
            "Epoch 8/50\n",
            "30/30 [==============================] - 6s 215ms/step - loss: 1.0510 - accuracy: 0.4154 - val_loss: 1.0323 - val_accuracy: 0.4858\n",
            "Epoch 9/50\n",
            "30/30 [==============================] - 6s 216ms/step - loss: 1.0484 - accuracy: 0.4238 - val_loss: 1.0297 - val_accuracy: 0.4826\n",
            "Epoch 10/50\n",
            "30/30 [==============================] - 6s 215ms/step - loss: 1.0535 - accuracy: 0.4080 - val_loss: 1.0261 - val_accuracy: 0.4826\n",
            "Epoch 11/50\n",
            "30/30 [==============================] - 6s 216ms/step - loss: 1.0485 - accuracy: 0.4017 - val_loss: 1.0293 - val_accuracy: 0.4953\n",
            "Epoch 12/50\n",
            "30/30 [==============================] - 6s 215ms/step - loss: 1.0331 - accuracy: 0.4017 - val_loss: 1.0232 - val_accuracy: 0.4890\n",
            "Epoch 13/50\n",
            "30/30 [==============================] - 6s 215ms/step - loss: 1.0377 - accuracy: 0.4490 - val_loss: 1.0173 - val_accuracy: 0.4858\n",
            "Epoch 14/50\n",
            "30/30 [==============================] - 6s 215ms/step - loss: 1.0447 - accuracy: 0.3975 - val_loss: 1.0160 - val_accuracy: 0.4858\n",
            "Epoch 15/50\n",
            "30/30 [==============================] - 6s 216ms/step - loss: 1.0343 - accuracy: 0.4332 - val_loss: 1.0145 - val_accuracy: 0.4858\n",
            "Epoch 16/50\n",
            "30/30 [==============================] - 6s 216ms/step - loss: 1.0398 - accuracy: 0.4206 - val_loss: 1.0128 - val_accuracy: 0.4858\n",
            "Epoch 17/50\n",
            "30/30 [==============================] - 7s 218ms/step - loss: 1.0323 - accuracy: 0.4259 - val_loss: 1.0095 - val_accuracy: 0.4921\n",
            "Epoch 18/50\n",
            "30/30 [==============================] - 7s 217ms/step - loss: 1.0275 - accuracy: 0.4217 - val_loss: 1.0073 - val_accuracy: 0.4921\n",
            "Epoch 19/50\n",
            "30/30 [==============================] - 6s 216ms/step - loss: 1.0203 - accuracy: 0.4322 - val_loss: 1.0051 - val_accuracy: 0.4921\n",
            "Epoch 20/50\n",
            "30/30 [==============================] - 7s 217ms/step - loss: 1.0297 - accuracy: 0.4196 - val_loss: 1.0036 - val_accuracy: 0.4921\n",
            "Epoch 21/50\n",
            "30/30 [==============================] - 6s 216ms/step - loss: 1.0229 - accuracy: 0.4290 - val_loss: 1.0020 - val_accuracy: 0.4921\n",
            "Epoch 22/50\n",
            "30/30 [==============================] - 7s 218ms/step - loss: 1.0374 - accuracy: 0.4059 - val_loss: 1.0009 - val_accuracy: 0.4921\n",
            "Epoch 23/50\n",
            "30/30 [==============================] - 7s 219ms/step - loss: 1.0222 - accuracy: 0.4101 - val_loss: 0.9992 - val_accuracy: 0.4921\n",
            "Epoch 24/50\n",
            "30/30 [==============================] - 7s 217ms/step - loss: 1.0281 - accuracy: 0.4069 - val_loss: 0.9981 - val_accuracy: 0.4921\n",
            "Epoch 25/50\n",
            "30/30 [==============================] - 7s 218ms/step - loss: 1.0185 - accuracy: 0.4269 - val_loss: 0.9967 - val_accuracy: 0.4921\n",
            "Epoch 26/50\n",
            "30/30 [==============================] - 7s 218ms/step - loss: 1.0346 - accuracy: 0.4217 - val_loss: 0.9958 - val_accuracy: 0.4921\n",
            "Epoch 27/50\n",
            "30/30 [==============================] - 7s 218ms/step - loss: 1.0331 - accuracy: 0.4311 - val_loss: 0.9949 - val_accuracy: 0.4921\n",
            "Epoch 28/50\n",
            "30/30 [==============================] - 7s 217ms/step - loss: 1.0361 - accuracy: 0.4269 - val_loss: 0.9943 - val_accuracy: 0.4921\n",
            "Epoch 29/50\n",
            "30/30 [==============================] - 6s 216ms/step - loss: 1.0158 - accuracy: 0.4511 - val_loss: 0.9932 - val_accuracy: 0.4921\n",
            "Epoch 30/50\n",
            "30/30 [==============================] - 7s 217ms/step - loss: 1.0226 - accuracy: 0.4269 - val_loss: 0.9918 - val_accuracy: 0.4921\n",
            "Epoch 31/50\n",
            "30/30 [==============================] - 7s 220ms/step - loss: 1.0090 - accuracy: 0.4543 - val_loss: 0.9906 - val_accuracy: 0.4921\n",
            "Epoch 32/50\n",
            "30/30 [==============================] - 7s 217ms/step - loss: 1.0332 - accuracy: 0.4111 - val_loss: 0.9899 - val_accuracy: 0.4921\n",
            "Epoch 33/50\n",
            "30/30 [==============================] - 7s 217ms/step - loss: 1.0298 - accuracy: 0.4111 - val_loss: 0.9892 - val_accuracy: 0.4921\n",
            "Epoch 34/50\n",
            "30/30 [==============================] - 7s 218ms/step - loss: 1.0309 - accuracy: 0.4332 - val_loss: 0.9887 - val_accuracy: 0.4921\n",
            "Epoch 35/50\n",
            "30/30 [==============================] - 6s 216ms/step - loss: 1.0207 - accuracy: 0.4353 - val_loss: 0.9879 - val_accuracy: 0.4921\n",
            "Epoch 36/50\n",
            "30/30 [==============================] - 7s 218ms/step - loss: 1.0197 - accuracy: 0.4332 - val_loss: 0.9871 - val_accuracy: 0.4921\n",
            "Epoch 37/50\n",
            "30/30 [==============================] - 6s 215ms/step - loss: 1.0288 - accuracy: 0.4269 - val_loss: 0.9867 - val_accuracy: 0.4921\n",
            "Epoch 38/50\n",
            "30/30 [==============================] - 6s 216ms/step - loss: 1.0191 - accuracy: 0.4280 - val_loss: 0.9861 - val_accuracy: 0.4921\n",
            "Epoch 39/50\n",
            "30/30 [==============================] - 6s 216ms/step - loss: 1.0342 - accuracy: 0.4111 - val_loss: 0.9858 - val_accuracy: 0.4921\n",
            "Epoch 40/50\n",
            "30/30 [==============================] - 7s 217ms/step - loss: 1.0183 - accuracy: 0.4322 - val_loss: 0.9850 - val_accuracy: 0.4921\n",
            "Epoch 41/50\n",
            "30/30 [==============================] - 7s 217ms/step - loss: 1.0215 - accuracy: 0.4374 - val_loss: 0.9846 - val_accuracy: 0.4921\n",
            "Epoch 42/50\n",
            "30/30 [==============================] - 7s 218ms/step - loss: 1.0247 - accuracy: 0.4301 - val_loss: 0.9839 - val_accuracy: 0.4921\n",
            "Epoch 43/50\n",
            "30/30 [==============================] - 7s 218ms/step - loss: 1.0191 - accuracy: 0.4238 - val_loss: 0.9991 - val_accuracy: 0.4732\n",
            "Epoch 44/50\n",
            "30/30 [==============================] - 6s 216ms/step - loss: 1.0299 - accuracy: 0.4217 - val_loss: 0.9833 - val_accuracy: 0.4921\n",
            "Epoch 45/50\n",
            "30/30 [==============================] - 7s 219ms/step - loss: 1.0167 - accuracy: 0.4332 - val_loss: 0.9826 - val_accuracy: 0.4921\n",
            "Epoch 46/50\n",
            "30/30 [==============================] - 7s 217ms/step - loss: 1.0117 - accuracy: 0.4479 - val_loss: 0.9819 - val_accuracy: 0.4921\n",
            "Epoch 47/50\n",
            "30/30 [==============================] - 7s 217ms/step - loss: 1.0177 - accuracy: 0.4280 - val_loss: 0.9811 - val_accuracy: 0.4921\n",
            "Epoch 48/50\n",
            "30/30 [==============================] - 7s 218ms/step - loss: 1.0356 - accuracy: 0.4111 - val_loss: 1.0086 - val_accuracy: 0.4385\n",
            "Epoch 49/50\n",
            "30/30 [==============================] - 6s 216ms/step - loss: 1.0845 - accuracy: 0.4006 - val_loss: 1.0757 - val_accuracy: 0.3880\n",
            "Epoch 50/50\n",
            "30/30 [==============================] - 6s 217ms/step - loss: 1.1017 - accuracy: 0.3565 - val_loss: 1.0727 - val_accuracy: 0.3912\n"
          ],
          "name": "stdout"
        }
      ]
    },
    {
      "cell_type": "code",
      "metadata": {
        "colab": {
          "base_uri": "https://localhost:8080/"
        },
        "id": "DKNAVWusxcvf",
        "outputId": "cd8ca22e-3a10-48db-b4a7-8684004fe8f6"
      },
      "source": [
        "score = model.evaluate(X_test,y_test)\r\n",
        "print('loss=', score[0])\r\n",
        "print('accuracy=', score[1])"
      ],
      "execution_count": null,
      "outputs": [
        {
          "output_type": "stream",
          "text": [
            "10/10 [==============================] - 0s 48ms/step - loss: 1.0727 - accuracy: 0.3912\n",
            "loss= 1.072704792022705\n",
            "accuracy= 0.39116719365119934\n"
          ],
          "name": "stdout"
        }
      ]
    },
    {
      "cell_type": "code",
      "metadata": {
        "colab": {
          "base_uri": "https://localhost:8080/",
          "height": 286
        },
        "id": "Wuii3neNyK9u",
        "outputId": "f0cd895c-b1da-439e-fbbd-9857720dacf7"
      },
      "source": [
        "y_vloss = history.history['val_loss']\r\n",
        "y_loss = history.history['loss']\r\n",
        "\r\n",
        "x_len = np.arange(len(y_loss))\r\n",
        "\r\n",
        "plt.plot(x_len, y_vloss, marker='.', c='red', label='val_set_loss')\r\n",
        "plt.plot(x_len, y_loss, marker='.', c='blue', label='train_set_loss')\r\n",
        "plt.legend()\r\n",
        "plt.xlabel('epochs')\r\n",
        "plt.ylabel('loss')\r\n",
        "plt.grid()\r\n",
        "plt.show()"
      ],
      "execution_count": null,
      "outputs": [
        {
          "output_type": "display_data",
          "data": {
            "image/png": "[encoded data removed]",
            "text/plain": [
              "<Figure size 432x288 with 1 Axes>"
            ]
          },
          "metadata": {
            "tags": [],
            "needs_background": "light"
          }
        }
      ]
    },
    {
      "cell_type": "code",
      "metadata": {
        "colab": {
          "base_uri": "https://localhost:8080/",
          "height": 300
        },
        "id": "qMPhh_Dfyo5e",
        "outputId": "24da1e1d-4dad-46fc-cc22-40f3834daf9f"
      },
      "source": [
        "caltech_dir = '/content/drive/MyDrive/기말고사 과제/others'\r\n",
        "image_w = 64\r\n",
        "image_h = 64\r\n",
        "\r\n",
        "pixels = image_h * image_w * 3\r\n",
        "\r\n",
        "X = []\r\n",
        "filenames = []\r\n",
        "files = glob.glob(caltech_dir+\"/*.*\")\r\n",
        "for i, f in enumerate(files):\r\n",
        "    img = Image.open(f)\r\n",
        "    img = img.convert(\"RGB\")\r\n",
        "    img = img.resize((image_w, image_h))\r\n",
        "    data = np.asarray(img)\r\n",
        "    filenames.append(f)\r\n",
        "    X.append(data)\r\n",
        "\r\n",
        "X = np.array(X)\r\n",
        "model = load_model('/content/drive/MyDrive/기말고사 과제/final_classification.model')\r\n",
        "\r\n",
        "prediction = model.predict(X)\r\n",
        "np.set_printoptions(formatter={'float': lambda x: \"{0:0.3f}\".format(x)})\r\n",
        "cnt = 0\r\n",
        "\r\n",
        "for i in prediction:\r\n",
        "    pre_ans = i.argmax()  # 예측 레이블\r\n",
        "    print(i)\r\n",
        "    print(pre_ans)\r\n",
        "    pre_ans_str = ''\r\n",
        "    if pre_ans == 0: pre_ans_str = \"가위\"\r\n",
        "    elif pre_ans == 1: pre_ans_str = \"바위\"\r\n",
        "    else: pre_ans_str = \"보\"\r\n",
        "    if i[0] >= 0.8 : print(\"해당 \"+filenames[cnt].split(\"\\\\\")[1]+\"이미지는 \"+pre_ans_str+\"로 추정됩니다.\")\r\n",
        "    if i[1] >= 0.8 : print(\"해당 \"+filenames[cnt].split(\"\\\\\")[1]+\"이미지는 \"+pre_ans_str+\"로 추정됩니다.\")\r\n",
        "    if i[2] >= 0.8 : print(\"해당 \"+filenames[cnt].split(\"\\\\\")[1]+\"이미지는 \"+pre_ans_str+\"로 추정됩니다.\")\r\n",
        "    cnt += 1\r\n"
      ],
      "execution_count": null,
      "outputs": [
        {
          "output_type": "stream",
          "text": [
            "WARNING:tensorflow:6 out of the last 11 calls to <function Model.make_predict_function.<locals>.predict_function at 0x7f3723497d90> triggered tf.function retracing. Tracing is expensive and the excessive number of tracings could be due to (1) creating @tf.function repeatedly in a loop, (2) passing tensors with different shapes, (3) passing Python objects instead of tensors. For (1), please define your @tf.function outside of the loop. For (2), @tf.function has experimental_relax_shapes=True option that relaxes argument shapes that can avoid unnecessary retracing. For (3), please refer to https://www.tensorflow.org/tutorials/customization/performance#python_or_tensor_args and https://www.tensorflow.org/api_docs/python/tf/function for  more details.\n",
            "[0.000 0.000 1.000 0.000]\n",
            "2\n"
          ],
          "name": "stdout"
        },
        {
          "output_type": "error",
          "ename": "IndexError",
          "evalue": "ignored",
          "traceback": [
            "\u001b[0;31m---------------------------------------------------------------------------\u001b[0m",
            "\u001b[0;31mIndexError\u001b[0m                                Traceback (most recent call last)",
            "\u001b[0;32m<ipython-input-34-5bf5d44dd351>\u001b[0m in \u001b[0;36m<module>\u001b[0;34m()\u001b[0m\n\u001b[1;32m     33\u001b[0m     \u001b[0;32mif\u001b[0m \u001b[0mi\u001b[0m\u001b[0;34m[\u001b[0m\u001b[0;36m0\u001b[0m\u001b[0;34m]\u001b[0m \u001b[0;34m>=\u001b[0m \u001b[0;36m0.8\u001b[0m \u001b[0;34m:\u001b[0m \u001b[0mprint\u001b[0m\u001b[0;34m(\u001b[0m\u001b[0;34m\"해당 \"\u001b[0m\u001b[0;34m+\u001b[0m\u001b[0mfilenames\u001b[0m\u001b[0;34m[\u001b[0m\u001b[0mcnt\u001b[0m\u001b[0;34m]\u001b[0m\u001b[0;34m.\u001b[0m\u001b[0msplit\u001b[0m\u001b[0;34m(\u001b[0m\u001b[0;34m\"\\\\\"\u001b[0m\u001b[0;34m)\u001b[0m\u001b[0;34m[\u001b[0m\u001b[0;36m1\u001b[0m\u001b[0;34m]\u001b[0m\u001b[0;34m+\u001b[0m\u001b[0;34m\"이미지는 \"\u001b[0m\u001b[0;34m+\u001b[0m\u001b[0mpre_ans_str\u001b[0m\u001b[0;34m+\u001b[0m\u001b[0;34m\"로 추정됩니다.\"\u001b[0m\u001b[0;34m)\u001b[0m\u001b[0;34m\u001b[0m\u001b[0;34m\u001b[0m\u001b[0m\n\u001b[1;32m     34\u001b[0m     \u001b[0;32mif\u001b[0m \u001b[0mi\u001b[0m\u001b[0;34m[\u001b[0m\u001b[0;36m1\u001b[0m\u001b[0;34m]\u001b[0m \u001b[0;34m>=\u001b[0m \u001b[0;36m0.8\u001b[0m \u001b[0;34m:\u001b[0m \u001b[0mprint\u001b[0m\u001b[0;34m(\u001b[0m\u001b[0;34m\"해당 \"\u001b[0m\u001b[0;34m+\u001b[0m\u001b[0mfilenames\u001b[0m\u001b[0;34m[\u001b[0m\u001b[0mcnt\u001b[0m\u001b[0;34m]\u001b[0m\u001b[0;34m.\u001b[0m\u001b[0msplit\u001b[0m\u001b[0;34m(\u001b[0m\u001b[0;34m\"\\\\\"\u001b[0m\u001b[0;34m)\u001b[0m\u001b[0;34m[\u001b[0m\u001b[0;36m1\u001b[0m\u001b[0;34m]\u001b[0m\u001b[0;34m+\u001b[0m\u001b[0;34m\"이미지는 \"\u001b[0m\u001b[0;34m+\u001b[0m\u001b[0mpre_ans_str\u001b[0m\u001b[0;34m+\u001b[0m\u001b[0;34m\"로 추정됩니다.\"\u001b[0m\u001b[0;34m)\u001b[0m\u001b[0;34m\u001b[0m\u001b[0;34m\u001b[0m\u001b[0m\n\u001b[0;32m---> 35\u001b[0;31m     \u001b[0;32mif\u001b[0m \u001b[0mi\u001b[0m\u001b[0;34m[\u001b[0m\u001b[0;36m2\u001b[0m\u001b[0;34m]\u001b[0m \u001b[0;34m>=\u001b[0m \u001b[0;36m0.8\u001b[0m \u001b[0;34m:\u001b[0m \u001b[0mprint\u001b[0m\u001b[0;34m(\u001b[0m\u001b[0;34m\"해당 \"\u001b[0m\u001b[0;34m+\u001b[0m\u001b[0mfilenames\u001b[0m\u001b[0;34m[\u001b[0m\u001b[0mcnt\u001b[0m\u001b[0;34m]\u001b[0m\u001b[0;34m.\u001b[0m\u001b[0msplit\u001b[0m\u001b[0;34m(\u001b[0m\u001b[0;34m\"\\\\\"\u001b[0m\u001b[0;34m)\u001b[0m\u001b[0;34m[\u001b[0m\u001b[0;36m1\u001b[0m\u001b[0;34m]\u001b[0m\u001b[0;34m+\u001b[0m\u001b[0;34m\"이미지는 \"\u001b[0m\u001b[0;34m+\u001b[0m\u001b[0mpre_ans_str\u001b[0m\u001b[0;34m+\u001b[0m\u001b[0;34m\"로 추정됩니다.\"\u001b[0m\u001b[0;34m)\u001b[0m\u001b[0;34m\u001b[0m\u001b[0;34m\u001b[0m\u001b[0m\n\u001b[0m\u001b[1;32m     36\u001b[0m     \u001b[0mcnt\u001b[0m \u001b[0;34m+=\u001b[0m \u001b[0;36m1\u001b[0m\u001b[0;34m\u001b[0m\u001b[0;34m\u001b[0m\u001b[0m\n",
            "\u001b[0;31mIndexError\u001b[0m: list index out of range"
          ]
        }
      ]
    },
    {
      "cell_type": "code",
      "metadata": {
        "id": "VyROYCl73A24"
      },
      "source": [
        ""
      ],
      "execution_count": null,
      "outputs": []
    }
  ]
}