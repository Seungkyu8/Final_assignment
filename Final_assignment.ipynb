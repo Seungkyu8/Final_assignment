{
  "nbformat": 4,
  "nbformat_minor": 0,
  "metadata": {
    "colab": {
      "name": "Untitled0.ipynb",
      "provenance": [],
      "authorship_tag": "ABX9TyO8O8FEKM8hYQpzEQ6a8UGx",
      "include_colab_link": true
    },
    "kernelspec": {
      "name": "python3",
      "display_name": "Python 3"
    },
    "accelerator": "GPU"
  },
  "cells": [
    {
      "cell_type": "markdown",
      "metadata": {
        "id": "view-in-github",
        "colab_type": "text"
      },
      "source": [
        "<a href=\"https://colab.research.google.com/github/Seungkyu8/Final_assignment/blob/main/Final_assignment.ipynb\" target=\"_parent\"><img src=\"https://colab.research.google.com/assets/colab-badge.svg\" alt=\"Open In Colab\"/></a>"
      ]
    },
    {
      "cell_type": "code",
      "metadata": {
        "id": "739bpL2h7lUH"
      },
      "source": [
        "import sys\r\n",
        "assert sys.version_info >= (3, 5)\r\n",
        "\r\n",
        "import glob\r\n",
        "\r\n",
        "import sklearn\r\n",
        "assert sklearn.__version__>=\"0.20\"\r\n",
        "\r\n",
        "from sklearn.model_selection import train_test_split\r\n",
        "from keras.models import Sequential\r\n",
        "from keras.layers import Conv2D, MaxPooling2D, Dense, Flatten, Dropout\r\n",
        "from keras.callbacks import EarlyStopping, ModelCheckpoint\r\n",
        "\r\n",
        "try:\r\n",
        "    %tensorflow_version 2.x\r\n",
        "    IS_COLAB = True\r\n",
        "except Exception:\r\n",
        "    IS_COLAB = False\r\n",
        "\r\n",
        "from keras.utils import np_utils\r\n",
        "\r\n",
        "import tensorflow as tf\r\n",
        "from tensorflow import keras\r\n",
        "from functools import partial\r\n",
        "assert tf.__version__>=\"2.0\"\r\n",
        "\r\n",
        "if not tf.config.list_physical_devices('GPU'):\r\n",
        "    print(\"No GPU was detected. CNNs can be very slow without a GPU\")\r\n",
        "    if IS_COLAB:\r\n",
        "        print(\"Go to Runtime > Change runtime and select a GPU hardware accelerator.\")\r\n",
        "\r\n",
        "import numpy as np\r\n",
        "import os\r\n",
        "\r\n",
        "from PIL import Image\r\n",
        "np.random.seed(42)\r\n",
        "tf.random.set_seed(42)\r\n",
        "\r\n",
        "%matplotlib inline\r\n",
        "import matplotlib as mpl\r\n",
        "import matplotlib.pyplot as plt\r\n",
        "mpl.rc('axes', labelsize=14)\r\n",
        "mpl.rc('xtick', labelsize=12)\r\n",
        "mpl.rc('ytick', labelsize=12)"
      ],
      "execution_count": 3,
      "outputs": []
    },
    {
      "cell_type": "code",
      "metadata": {
        "colab": {
          "base_uri": "https://localhost:8080/"
        },
        "id": "GF9GdgGt7vCT",
        "outputId": "cf5ed429-8d34-4ed1-aec6-e6757808bc15"
      },
      "source": [
        "from google.colab import drive\r\n",
        "drive.mount('/content/drive')"
      ],
      "execution_count": 4,
      "outputs": [
        {
          "output_type": "stream",
          "text": [
            "Drive already mounted at /content/drive; to attempt to forcibly remount, call drive.mount(\"/content/drive\", force_remount=True).\n"
          ],
          "name": "stdout"
        }
      ]
    },
    {
      "cell_type": "code",
      "metadata": {
        "colab": {
          "base_uri": "https://localhost:8080/"
        },
        "id": "BkQAoSd3717V",
        "outputId": "6e9e5a19-926e-4b9b-a7b5-c2e1cf7e6d8d"
      },
      "source": [
        "caltech_dir = '/content/drive/MyDrive/기말고사/train'\r\n",
        "categories = ['scissors','rock','paper']\r\n",
        "nb_classes = len(categories)\r\n",
        "\r\n",
        "\r\n",
        "image_w = 64\r\n",
        "image_h = 64\r\n",
        "\r\n",
        "pixels = image_h * image_w * 3\r\n",
        "\r\n",
        "X = []\r\n",
        "y = []\r\n",
        "\r\n",
        "for idx, cat in enumerate(categories):\r\n",
        "    \r\n",
        "    #one-hot 돌리기.\r\n",
        "    label = [0 for i in range(nb_classes)]\r\n",
        "    label[idx] = 1\r\n",
        "\r\n",
        "    image_dir = caltech_dir + \"/\" + cat\r\n",
        "    files = glob.glob(image_dir+\"/*.jpg\")\r\n",
        "    print(cat, \" 파일 길이 : \", len(files))\r\n",
        "\r\n",
        "    for i, f in enumerate(files):\r\n",
        "        img = Image.open(f)\r\n",
        "        img = img.convert(\"RGB\")\r\n",
        "        img = img.resize((image_w, image_h))\r\n",
        "        data = np.asarray(img)\r\n",
        "\r\n",
        "        X.append(data)\r\n",
        "        y.append(label)\r\n",
        "\r\n",
        "        if i % 700 == 0:\r\n",
        "            print(cat, \" : \", f)\r\n",
        "\r\n",
        "X = np.array(X)\r\n",
        "y = np.array(y)\r\n",
        "#1 0 0 0 이면 airplanes\r\n",
        "#0 1 0 0 이면 buddha 이런식\r\n",
        "\r\n",
        "\r\n",
        "X_train, X_test, y_train, y_test = train_test_split(X, y)\r\n",
        "xy = (X_train, X_test, y_train, y_test)\r\n",
        "\r\n",
        "np.save('/content/drive/MyDrive/기말고사/final.npy', xy)\r\n",
        "\r\n",
        "print(\"ok\", len(y))"
      ],
      "execution_count": 5,
      "outputs": [
        {
          "output_type": "stream",
          "text": [
            "scissors  파일 길이 :  461\n",
            "scissors  :  /content/drive/MyDrive/기말고사/train/scissors/img138.jpg\n",
            "rock  파일 길이 :  394\n",
            "rock  :  /content/drive/MyDrive/기말고사/train/rock/img127.jpg\n",
            "paper  파일 길이 :  413\n",
            "paper  :  /content/drive/MyDrive/기말고사/train/paper/img134.jpg\n",
            "ok 1268\n"
          ],
          "name": "stdout"
        }
      ]
    },
    {
      "cell_type": "code",
      "metadata": {
        "colab": {
          "base_uri": "https://localhost:8080/"
        },
        "id": "fj-lEnXAEnlH",
        "outputId": "7a5240a9-1bb8-4a15-c1c2-1759dc4272a8"
      },
      "source": [
        "config = tf.compat.v1.ConfigProto ()\r\n",
        "config.gpu_options.allow_growth = True\r\n",
        "np_load_old = np.load\r\n",
        "np.load = lambda *a,**k: np_load_old(*a, allow_pickle=True, **k)\r\n",
        "X_train, X_test, y_train, y_test = np.load('/content/drive/MyDrive/기말고사/final.npy')\r\n",
        "print(X_train.shape)\r\n",
        "print(X_train.shape[0])"
      ],
      "execution_count": 13,
      "outputs": [
        {
          "output_type": "stream",
          "text": [
            "(951, 64, 64, 3)\n",
            "951\n"
          ],
          "name": "stdout"
        }
      ]
    },
    {
      "cell_type": "code",
      "metadata": {
        "id": "r4nUX7JoGHGR"
      },
      "source": [
        "categories = [\"scissors\",\"rock\",\"paper\"]\r\n",
        "classes = len(categories)\r\n",
        "\r\n",
        "X_train = X_train.astype(float) / 255\r\n",
        "X_test = X_test.astype(float) / 255"
      ],
      "execution_count": 14,
      "outputs": []
    },
    {
      "cell_type": "code",
      "metadata": {
        "id": "qV6VWIHKHRO6"
      },
      "source": [
        "model = Sequential()\r\n",
        "model.add(Conv2D(32, (3,3), padding=\"same\", input_shape=X_train.shape[1:], activation='relu'))\r\n",
        "model.add(MaxPooling2D(pool_size=(2,2)))\r\n",
        "model.add(Dropout(0.25))\r\n",
        "\r\n",
        "model.add(Conv2D(64, (3,3), padding=\"same\", activation='relu'))\r\n",
        "model.add(MaxPooling2D(pool_size=(2,2)))\r\n",
        "model.add(Dropout(0.25))\r\n",
        "\r\n",
        "model.add(Flatten())\r\n",
        "model.add(Dense(256, activation='softmax'))\r\n",
        "model.add(Dropout(0.5))\r\n",
        "model.add(Dense(classes, activation='softmax'))\r\n",
        "model.compile(loss='categorical_crossentropy', optimizer='adam', metrics=['accuracy'])\r\n",
        "model_dir = '/content/drive/Mydrive/기말고사'\r\n",
        "\r\n",
        "#if not os.path.exists(model_dir):\r\n",
        " #   os.mkdir(model_dir)\r\n",
        "\r\n",
        "model_path = model_dir + '/content/drive/Mydrive/기말고사/final_classification.model'\r\n",
        "checkpoint = ModelCheckpoint(filepath=model_path, monitor='val_loss', verbose=1, save_best_only=True)\r\n",
        "early_stopping = EarlyStopping(monitor='val_loss', patience=6)"
      ],
      "execution_count": 17,
      "outputs": []
    },
    {
      "cell_type": "code",
      "metadata": {
        "colab": {
          "base_uri": "https://localhost:8080/"
        },
        "id": "KzBJZYayJsYN",
        "outputId": "d1624210-00a5-4197-ebec-f0554005152c"
      },
      "source": [
        "model.summary()"
      ],
      "execution_count": 18,
      "outputs": [
        {
          "output_type": "stream",
          "text": [
            "Model: \"sequential_2\"\n",
            "_________________________________________________________________\n",
            "Layer (type)                 Output Shape              Param #   \n",
            "=================================================================\n",
            "conv2d_4 (Conv2D)            (None, 64, 64, 32)        896       \n",
            "_________________________________________________________________\n",
            "max_pooling2d_4 (MaxPooling2 (None, 32, 32, 32)        0         \n",
            "_________________________________________________________________\n",
            "dropout_6 (Dropout)          (None, 32, 32, 32)        0         \n",
            "_________________________________________________________________\n",
            "conv2d_5 (Conv2D)            (None, 32, 32, 64)        18496     \n",
            "_________________________________________________________________\n",
            "max_pooling2d_5 (MaxPooling2 (None, 16, 16, 64)        0         \n",
            "_________________________________________________________________\n",
            "dropout_7 (Dropout)          (None, 16, 16, 64)        0         \n",
            "_________________________________________________________________\n",
            "flatten_2 (Flatten)          (None, 16384)             0         \n",
            "_________________________________________________________________\n",
            "dense_4 (Dense)              (None, 256)               4194560   \n",
            "_________________________________________________________________\n",
            "dropout_8 (Dropout)          (None, 256)               0         \n",
            "_________________________________________________________________\n",
            "dense_5 (Dense)              (None, 3)                 771       \n",
            "=================================================================\n",
            "Total params: 4,214,723\n",
            "Trainable params: 4,214,723\n",
            "Non-trainable params: 0\n",
            "_________________________________________________________________\n"
          ],
          "name": "stdout"
        }
      ]
    },
    {
      "cell_type": "code",
      "metadata": {
        "id": "boF9VL6LLMRh"
      },
      "source": [
        ""
      ],
      "execution_count": null,
      "outputs": []
    }
  ]
}